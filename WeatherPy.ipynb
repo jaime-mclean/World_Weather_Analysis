{
 "cells": [
  {
   "cell_type": "code",
   "execution_count": 3,
   "id": "bbf5aa8d",
   "metadata": {},
   "outputs": [],
   "source": [
    "# Import the dependencies.\n",
    "import pandas as pd\n",
    "import matplotlib.pyplot as plt\n",
    "import numpy as np\n",
    "import time\n",
    "from datetime import datetime\n",
    "from citipy import citipy\n",
    "# Import the API key.\n",
    "from config import weather_api_key"
   ]
  },
  {
   "cell_type": "code",
   "execution_count": 4,
   "id": "5c7b854c",
   "metadata": {},
   "outputs": [
    {
     "data": {
      "text/plain": [
       "<zip at 0x1bded81b5c8>"
      ]
     },
     "execution_count": 4,
     "metadata": {},
     "output_type": "execute_result"
    }
   ],
   "source": [
    "# Create a set of random latitude and longitude combinations.\n",
    "lats = np.random.uniform(low=-90.000, high=90.000, size=30)\n",
    "lngs = np.random.uniform(low=-180.000, high=180.000, size=30)\n",
    "lat_lngs = zip(lats, lngs)\n",
    "lat_lngs"
   ]
  },
  {
   "cell_type": "code",
   "execution_count": 5,
   "id": "7ed842f6",
   "metadata": {},
   "outputs": [],
   "source": [
    "# Add the latitudes and longitudes to a list.\n",
    "coordinates = list(lat_lngs)"
   ]
  },
  {
   "cell_type": "code",
   "execution_count": 6,
   "id": "66a63698",
   "metadata": {},
   "outputs": [
    {
     "data": {
      "text/plain": [
       "29"
      ]
     },
     "execution_count": 6,
     "metadata": {},
     "output_type": "execute_result"
    }
   ],
   "source": [
    "# Create a list for holding the cities.\n",
    "cities = []\n",
    "# Identify the nearest city for each latitude and longitude combination.\n",
    "for coordinate in coordinates:\n",
    "    city = citipy.nearest_city(coordinate[0], coordinate[1]).city_name\n",
    "\n",
    "    # If the city is unique, then we will add it to the cities list.\n",
    "    if city not in cities:\n",
    "        cities.append(city)\n",
    "# Print the city count to confirm sufficient count.\n",
    "len(cities)"
   ]
  },
  {
   "cell_type": "code",
   "execution_count": 7,
   "id": "c304fc36",
   "metadata": {},
   "outputs": [],
   "source": [
    "# Starting URL for Weather Map API Call.\n",
    "url = \"http://api.openweathermap.org/data/2.5/weather?units=Imperial&APPID=\" + weather_api_key"
   ]
  },
  {
   "cell_type": "code",
   "execution_count": 8,
   "id": "2f75315a",
   "metadata": {},
   "outputs": [
    {
     "name": "stdout",
     "output_type": "stream",
     "text": [
      "Beginning Data Retrieval     \n",
      "-----------------------------\n",
      "Processing Record 1 of Set 1 | aldan\n",
      "City not found. Skipping...\n",
      "Processing Record 2 of Set 1 | portland\n",
      "City not found. Skipping...\n",
      "Processing Record 3 of Set 1 | mahina\n",
      "City not found. Skipping...\n",
      "Processing Record 4 of Set 1 | albany\n",
      "City not found. Skipping...\n",
      "Processing Record 5 of Set 1 | cape town\n",
      "City not found. Skipping...\n",
      "Processing Record 6 of Set 1 | bredasdorp\n",
      "City not found. Skipping...\n",
      "Processing Record 7 of Set 1 | nebbi\n",
      "City not found. Skipping...\n",
      "Processing Record 8 of Set 1 | hilo\n",
      "City not found. Skipping...\n",
      "Processing Record 9 of Set 1 | busselton\n",
      "City not found. Skipping...\n",
      "Processing Record 10 of Set 1 | tucurui\n",
      "City not found. Skipping...\n",
      "Processing Record 11 of Set 1 | iqaluit\n",
      "City not found. Skipping...\n",
      "Processing Record 12 of Set 1 | mataura\n",
      "City not found. Skipping...\n",
      "Processing Record 13 of Set 1 | kumbo\n",
      "City not found. Skipping...\n",
      "Processing Record 14 of Set 1 | qaanaaq\n",
      "City not found. Skipping...\n",
      "Processing Record 15 of Set 1 | ushuaia\n",
      "City not found. Skipping...\n",
      "Processing Record 16 of Set 1 | pangnirtung\n",
      "City not found. Skipping...\n",
      "Processing Record 17 of Set 1 | vardo\n",
      "City not found. Skipping...\n",
      "Processing Record 18 of Set 1 | monterey\n",
      "City not found. Skipping...\n",
      "Processing Record 19 of Set 1 | iturama\n",
      "City not found. Skipping...\n",
      "Processing Record 20 of Set 1 | rikitea\n",
      "City not found. Skipping...\n",
      "Processing Record 21 of Set 1 | jamestown\n",
      "City not found. Skipping...\n",
      "Processing Record 22 of Set 1 | kilosa\n",
      "City not found. Skipping...\n",
      "Processing Record 23 of Set 1 | burnie\n",
      "City not found. Skipping...\n",
      "Processing Record 24 of Set 1 | sao jose da coroa grande\n",
      "City not found. Skipping...\n",
      "Processing Record 25 of Set 1 | tasbuget\n",
      "City not found. Skipping...\n",
      "Processing Record 26 of Set 1 | bluff\n",
      "City not found. Skipping...\n",
      "Processing Record 27 of Set 1 | muriwai beach\n",
      "City not found. Skipping...\n",
      "Processing Record 28 of Set 1 | rundu\n",
      "City not found. Skipping...\n",
      "Processing Record 29 of Set 1 | kholodnyy\n",
      "City not found. Skipping...\n",
      "-----------------------------\n",
      "Data Retrieval Complete      \n",
      "-----------------------------\n"
     ]
    }
   ],
   "source": [
    "# Create an empty list to hold weather data for each city\n",
    "city_data = []\n",
    "\n",
    "# Print a message to indicate that the data retrieval starts\n",
    "print(\"Beginning Data Retrieval     \")\n",
    "print(\"-----------------------------\")\n",
    "\n",
    "# Create counters and set them to 1\n",
    "record_count = 1\n",
    "set_count = 1\n",
    "\n",
    "# Loop through all the cities in our list to fetch weather data for each city\n",
    "for i, city in enumerate(cities):\n",
    "        \n",
    "    # Group cities in sets of 50 for logging purposes\n",
    "    if (i % 50 == 0 and i >= 50):\n",
    "        set_count += 1\n",
    "        record_count = 1\n",
    "        time.sleep(60)\n",
    "\n",
    "    # Create an endpoint URL for each city\n",
    "    city_url = url + \"&q=\" + city.replace(\" \",\"+\")\n",
    "    \n",
    "    # Log the url, record, and set numbers\n",
    "    print(f\"Processing Record {record_count} of Set {set_count} | {city}\")\n",
    "\n",
    "    # Add 1 to the record count\n",
    "    record_count += 1\n",
    "# Run an API request for each of the cities.\n",
    "    try:\n",
    "        # Parse the JSON and retrieve data.\n",
    "        city_weather = requests.get(city_url).json()\n",
    "        \n",
    "        # Parse out the needed data.\n",
    "        city_lat = city_weather[\"coord\"][\"lat\"]\n",
    "        city_lng = city_weather[\"coord\"][\"lon\"]\n",
    "        city_max_temp = city_weather[\"main\"][\"temp_max\"]\n",
    "        city_humidity = city_weather[\"main\"][\"humidity\"]\n",
    "        city_clouds = city_weather[\"clouds\"][\"all\"]\n",
    "        city_wind = city_weather[\"wind\"][\"speed\"]\n",
    "        city_country = city_weather[\"sys\"][\"country\"]\n",
    "        \n",
    "        # Convert the date to ISO standard.\n",
    "        city_date = datetime.utcfromtimestamp(city_weather[\"dt\"]).strftime('%Y-%m-%d %H:%M:%S')\n",
    "        \n",
    "        # Append the city information into city_data list.\n",
    "        city_data.append({\"City\": city.title(),\n",
    "                          \"Lat\": city_lat,\n",
    "                          \"Lng\": city_lng,\n",
    "                          \"Max Temp\": city_max_temp,\n",
    "                          \"Humidity\": city_humidity,\n",
    "                          \"Cloudiness\": city_clouds,\n",
    "                          \"Wind Speed\": city_wind,\n",
    "                          \"Country\": city_country,\n",
    "                          \"Date\": city_date})\n",
    "\n",
    "# If an error is experienced, skip the city.\n",
    "    except:\n",
    "        print(\"City not found. Skipping...\")\n",
    "        #pass\n",
    "\n",
    "# Indicate that Data Loading is complete.\n",
    "print(\"-----------------------------\")\n",
    "print(\"Data Retrieval Complete      \")\n",
    "print(\"-----------------------------\")    "
   ]
  },
  {
   "cell_type": "code",
   "execution_count": 9,
   "id": "f05b64e0",
   "metadata": {},
   "outputs": [
    {
     "data": {
      "text/plain": [
       "0"
      ]
     },
     "execution_count": 9,
     "metadata": {},
     "output_type": "execute_result"
    }
   ],
   "source": [
    "len(city_data)"
   ]
  }
 ],
 "metadata": {
  "kernelspec": {
   "display_name": "PythonData",
   "language": "python",
   "name": "pythondata"
  },
  "language_info": {
   "codemirror_mode": {
    "name": "ipython",
    "version": 3
   },
   "file_extension": ".py",
   "mimetype": "text/x-python",
   "name": "python",
   "nbconvert_exporter": "python",
   "pygments_lexer": "ipython3",
   "version": "3.7.13"
  }
 },
 "nbformat": 4,
 "nbformat_minor": 5
}
